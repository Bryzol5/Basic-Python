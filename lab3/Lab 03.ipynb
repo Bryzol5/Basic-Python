{
 "cells": [
  {
   "cell_type": "markdown",
   "id": "0ed77f90",
   "metadata": {},
   "source": [
    "## Exercise 01\n",
    "\n",
    "Read the dataset of the previous class, for a variable named `df`, using the function [`read_csv()`](https://pandas.pydata.org/docs/reference/api/pandas.read_csv.html) and show its content."
   ]
  },
  {
   "cell_type": "code",
   "execution_count": 2,
   "id": "9f72a688",
   "metadata": {
    "scrolled": true
   },
   "outputs": [],
   "source": [
    "import pandas as pd\n",
    "import numpy as np\n",
    "\n",
    "# Load the csv data (from 'data/track.csv') and see what we get."
   ]
  },
  {
   "cell_type": "markdown",
   "id": "9b413fd9",
   "metadata": {},
   "source": [
    "As you can see, the index is the usual one: a sequential number from $0$ to $n-1$ (for a csv with $n$ rows of data). Note that `read_csv()` was smart and detected the name of the columns in the first row of the file. It's not always like that...\n",
    "\n",
    "## Exercise 02\n",
    "\n",
    "Inspect the returned dataframe, using the `info()` method."
   ]
  },
  {
   "cell_type": "code",
   "execution_count": null,
   "id": "cc54bf38",
   "metadata": {},
   "outputs": [],
   "source": []
  },
  {
   "cell_type": "markdown",
   "id": "4bc44116",
   "metadata": {},
   "source": [
    "The columns relating to latitude, longitude and elevation were interpreted as float64 (numbers with floating comma, with double precision). The `time` and `place` columns are objects.\n",
    "\n",
    "## Exercise 03\n",
    "\n",
    "What is the type of `df['lat']` and `df.time`?"
   ]
  },
  {
   "cell_type": "code",
   "execution_count": null,
   "id": "83a433f8",
   "metadata": {
    "scrolled": true
   },
   "outputs": [],
   "source": []
  },
  {
   "cell_type": "markdown",
   "id": "23c0b3ec",
   "metadata": {},
   "source": [
    "## Exercise 04\n",
    "\n",
    "What are the values and respective types in the first position of `df.lat` and `df['time']`?"
   ]
  },
  {
   "cell_type": "code",
   "execution_count": null,
   "id": "25fdd98a",
   "metadata": {
    "scrolled": true
   },
   "outputs": [],
   "source": []
  },
  {
   "cell_type": "markdown",
   "id": "2cbc37c3",
   "metadata": {},
   "source": [
    "As you can verify, the column `time` ended up generating a series with objects of the type `str`, that is, strings. Which is in not good if we want to do operations with hours and dates...\n",
    "\n",
    "## Exercise 05\n",
    "\n",
    "Looking at the documentation of the function [`read_csv()`](https://pandas.pydata.org/docs/reference/api/pandas.read_csv.html), see if you can make the `time` column interpreted as a date with time. Use again the `info()` method to inspect the type of the elements of each column of the data frame."
   ]
  },
  {
   "cell_type": "code",
   "execution_count": null,
   "id": "065f467d",
   "metadata": {
    "scrolled": true
   },
   "outputs": [],
   "source": []
  },
  {
   "cell_type": "markdown",
   "id": "c4ebb778",
   "metadata": {},
   "source": [
    "## Exercise 06\n",
    "\n",
    "Use the [`head()`](https://pandas.pydata.org/docs/reference/api/pandas.DataFrame.head.html) method to show only the first 10 lines of the data frame."
   ]
  },
  {
   "cell_type": "code",
   "execution_count": null,
   "id": "07d81e8a",
   "metadata": {
    "scrolled": true
   },
   "outputs": [],
   "source": []
  },
  {
   "cell_type": "markdown",
   "id": "0f650536",
   "metadata": {},
   "source": [
    "## Exercise 07\n",
    "\n",
    "By the way, it shows the last 5 lines of the data frame. \n",
    "\n",
    "**Tip**: look in the documentation not for head but for tail ..."
   ]
  },
  {
   "cell_type": "code",
   "execution_count": null,
   "id": "64e4786c",
   "metadata": {},
   "outputs": [],
   "source": []
  },
  {
   "cell_type": "markdown",
   "id": "cb3f7fb0",
   "metadata": {},
   "source": [
    "## Exercise 08\n",
    "\n",
    "What is the type of values returned by the `head()` and `tail()` methods?"
   ]
  },
  {
   "cell_type": "code",
   "execution_count": null,
   "id": "03a71932",
   "metadata": {},
   "outputs": [],
   "source": []
  },
  {
   "cell_type": "markdown",
   "id": "42150348",
   "metadata": {},
   "source": [
    "## Exercise 09\n",
    "\n",
    "What is the time elapsed (in seconds) between the samples of indexes 0 and 100, of the route?\n",
    "\n",
    "**Tip**: Note that the type of elements in the `time` column is [`pandas.Timestamp`](https://pandas.pydata.org/pandas-docs/stable/user_guide/timeseries.html). It can also be useful to look at the class [`pandas.Timedelta`](https://pandas.pydata.org/docs/reference/api/pandas.Timedelta.html#pandas-timedelta)\n",
    "\n",
    "First compute the difference bettween the two timestamps; Then use the method `total_seconds` to compute the delta in seconds."
   ]
  },
  {
   "cell_type": "code",
   "execution_count": null,
   "id": "979525f6",
   "metadata": {
    "scrolled": true
   },
   "outputs": [],
   "source": []
  },
  {
   "cell_type": "markdown",
   "id": "64abb38f",
   "metadata": {},
   "source": [
    "## Exercise 10\n",
    "\n",
    "What is the total duration of the route (in seconds)?\n",
    "\n",
    "**Tip:** compute the last index, using the `len` function."
   ]
  },
  {
   "cell_type": "code",
   "execution_count": null,
   "id": "2c692667",
   "metadata": {},
   "outputs": [],
   "source": []
  },
  {
   "cell_type": "markdown",
   "id": "171526f9",
   "metadata": {},
   "source": [
    "## Exercise 11\n",
    "\n",
    "What is the average GPS sampling rate (in samples per second)?\n",
    "\n",
    "**Top**: You need to get the total number of lines of a [`DataFrame`](https://pandas.pydata.org/docs/reference/api/pandas.DataFrame.html)."
   ]
  },
  {
   "cell_type": "code",
   "execution_count": null,
   "id": "3a9f5757",
   "metadata": {},
   "outputs": [],
   "source": []
  },
  {
   "cell_type": "markdown",
   "id": "7a6c9065",
   "metadata": {},
   "source": [
    "## Exercise 12\n",
    "\n",
    "Our data frame has, so far, a numerical index. In this set of data, the data refers to a time series. We can imagine that each sample could be indexed by the date/time at which it was obtained. Let's go back to using the `read_csv()` function so that the index is the `time` column. Show the result dataframe.\n",
    "\n",
    "**Tip:** check the argument `parse_dates`."
   ]
  },
  {
   "cell_type": "code",
   "execution_count": null,
   "id": "3821fee1",
   "metadata": {},
   "outputs": [],
   "source": []
  },
  {
   "cell_type": "markdown",
   "id": "6e455d63",
   "metadata": {},
   "source": [
    "## Exercise 13\n",
    "\n",
    "Get the samples obtained between 10:00 and 10:05. The day of the track is 2012-05-26.\n",
    "\n",
    "**Note:** Do not forget that the data is a dateTime"
   ]
  },
  {
   "cell_type": "code",
   "execution_count": null,
   "id": "b45a5313",
   "metadata": {},
   "outputs": [],
   "source": []
  },
  {
   "cell_type": "markdown",
   "id": "3036d99f",
   "metadata": {},
   "source": [
    "## Exercise 14\n",
    "\n",
    "Add a column (`delta_ele`), in the data frame, with the elevation difference to the previous point. Note that this series does not have a defined value for the first sample.\n",
    "\n",
    "**Tip**: Check the documentation about [`diff`](https://pandas.pydata.org/docs/reference/api/pandas.DataFrame.diff.html) method. Notice that `diff` method can be used to compute the difference between. You can also check a related method, [`shift`](https://pandas.pydata.org/docs/reference/api/pandas.DataFrame.shift.html)."
   ]
  },
  {
   "cell_type": "code",
   "execution_count": null,
   "id": "a18e80cd",
   "metadata": {},
   "outputs": [],
   "source": []
  },
  {
   "cell_type": "markdown",
   "id": "f79fe418",
   "metadata": {},
   "source": [
    "## Exercise 15\n",
    "\n",
    "The function `haversine(lon1, lat1, lon2, lat2)` accepts 4 series, with the locations of pairs of points and produces a series with the distances between the two points of each pair. \n",
    "Call the function with 2 series of the original data frame (`df`), and the two of the original data frame shifted.\n",
    "\n",
    "Notice that this `haversine` uses some mathematical functions from `numpy` that work on nparrays (in this case the series)\n",
    "\n",
    "**Tip**: Check the method, [`shift`](https://pandas.pydata.org/docs/reference/api/pandas.DataFrame.shift.html)."
   ]
  },
  {
   "cell_type": "code",
   "execution_count": 1,
   "id": "d84408ec",
   "metadata": {},
   "outputs": [],
   "source": [
    "import numpy as np\n",
    "\n",
    "def haversine(lon1, lat1, lon2, lat2):\n",
    "    \n",
    "    lon1, lat1, lon2, lat2 = map(np.radians, [lon1, lat1, lon2, lat2])\n",
    "    \n",
    "    dlat = lat2 - lat1\n",
    "    dlon = lon2 - lon1\n",
    "    \n",
    "    a = np.sin(dlat/2)**2 + np.cos(lat1) * np.cos(lat2) * np.sin(dlon/2)**2\n",
    "    r = 6371\n",
    "    return 2*np.arcsin(np.sqrt(a))*r\n",
    "\n",
    "#print(haversine(.....))"
   ]
  },
  {
   "cell_type": "markdown",
   "id": "a905e35d",
   "metadata": {},
   "source": [
    "## Exercise 16\n",
    "\n",
    "Use the result of the previous call to add a new `dist` column to the dataframe `df`. "
   ]
  },
  {
   "cell_type": "code",
   "execution_count": null,
   "id": "8abf3e8b",
   "metadata": {},
   "outputs": [],
   "source": []
  },
  {
   "cell_type": "markdown",
   "id": "ed022398",
   "metadata": {},
   "source": [
    "## Exercise 17\n",
    "\n",
    "Show the graph with the profile (altimetry) of the route, as a function of the time. Check the documentation on [`plot`](https://pandas.pydata.org/docs/reference/api/pandas.DataFrame.plot.html) method of dataframe."
   ]
  },
  {
   "cell_type": "code",
   "execution_count": null,
   "id": "2bdc0d19",
   "metadata": {},
   "outputs": [],
   "source": []
  },
  {
   "cell_type": "markdown",
   "id": "46a85ea8",
   "metadata": {},
   "source": [
    "## Exercise 18\n",
    "\n",
    "Show a graph with the profile of the route (Altimetry) as a function of the accumulated distance (not in function of the time as in the previous exercise)\n",
    "\n",
    "**Tip:** Add a new column with the distance traveled (accumulated). Consult the documentation of the method [`cumsum`](https://pandas.pydata.org/docs/reference/api/pandas.DataFrame.cumsum.html)"
   ]
  },
  {
   "cell_type": "code",
   "execution_count": null,
   "id": "9cb290be",
   "metadata": {
    "scrolled": true
   },
   "outputs": [],
   "source": []
  },
  {
   "cell_type": "markdown",
   "id": "6fc2c5b3",
   "metadata": {},
   "source": [
    "## Exercise 19\n",
    "\n",
    "Add a new column (`delta_t`) to the data frame with the time elapsed since the previous instant sample.\n",
    "\n",
    "**Alternative 1:** add a column with the time index values and then apply the `diff` method to that column\n",
    "\n",
    "**Alternative 2:** create a series from the current index\n",
    "- `df['delta_t'] = pd.Series( df.index.values[1:] - df.index.values[:-1], index = df.index[1:])`\n"
   ]
  },
  {
   "cell_type": "code",
   "execution_count": null,
   "id": "2acce7ee",
   "metadata": {},
   "outputs": [],
   "source": []
  },
  {
   "cell_type": "markdown",
   "id": "30db97b9",
   "metadata": {},
   "source": [
    "## Exercise 20\n",
    "\n",
    "Calculate a series with the time differences (in seconds) between two consecutive samples.Take a look at documentation about the class [`pandas.Timedelta`](https://pandas.pydata.org/docs/reference/api/pandas.Timedelta.html#pandas-timedelta)"
   ]
  },
  {
   "cell_type": "code",
   "execution_count": null,
   "id": "9c967f0c",
   "metadata": {},
   "outputs": [],
   "source": []
  },
  {
   "cell_type": "markdown",
   "id": "f1521970",
   "metadata": {},
   "source": [
    "## Exercise 21\n",
    "\n",
    "Show a graph of speed over time."
   ]
  },
  {
   "cell_type": "code",
   "execution_count": null,
   "id": "25be16df",
   "metadata": {},
   "outputs": [],
   "source": []
  },
  {
   "cell_type": "markdown",
   "id": "083ff7a2",
   "metadata": {
    "tags": []
   },
   "source": [
    "## Exercise 22\n",
    "\n",
    "Build a DataFrame for the route section between 10:00 and 11:00"
   ]
  },
  {
   "cell_type": "code",
   "execution_count": null,
   "id": "5d0aae94",
   "metadata": {},
   "outputs": [],
   "source": []
  },
  {
   "cell_type": "markdown",
   "id": "2dfdca5d",
   "metadata": {},
   "source": [
    "Show a graph of the elevation for this section of the route, function of the total distance traveled."
   ]
  },
  {
   "cell_type": "code",
   "execution_count": null,
   "id": "24640626",
   "metadata": {},
   "outputs": [],
   "source": []
  },
  {
   "cell_type": "markdown",
   "id": "f6969d4f",
   "metadata": {},
   "source": [
    "## Exercise 23\n",
    "\n",
    "Show the distance traveled between \"Marker#1\" and \"Marker#2\""
   ]
  },
  {
   "cell_type": "code",
   "execution_count": null,
   "id": "29e403b7",
   "metadata": {},
   "outputs": [],
   "source": []
  }
 ],
 "metadata": {
  "kernelspec": {
   "display_name": "Python 3 (ipykernel)",
   "language": "python",
   "name": "python3"
  },
  "language_info": {
   "codemirror_mode": {
    "name": "ipython",
    "version": 3
   },
   "file_extension": ".py",
   "mimetype": "text/x-python",
   "name": "python",
   "nbconvert_exporter": "python",
   "pygments_lexer": "ipython3",
   "version": "3.9.7"
  }
 },
 "nbformat": 4,
 "nbformat_minor": 5
}
