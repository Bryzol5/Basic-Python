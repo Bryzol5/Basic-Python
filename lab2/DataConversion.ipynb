{
 "cells": [
  {
   "cell_type": "markdown",
   "id": "8113fec1",
   "metadata": {},
   "source": [
    "# Pré-processamento do ficheiro\n",
    "\n",
    "Nesta sessão o objetivo é efetuar algum processamento usando dados de percursos registados por dispositivos GPS. Neste caso o percurso corresponde a uma volta de bicicleta. Os dados estão originalmente no formato GPX. Este formato é definido em XML e vamos começar pela sua trasnformação para um formato tabular, com um ponto do percurso por cada linha dum ficheiro CSV.\n",
    "\n",
    "## Carregamento e interpretação do ficheiro GPX\n",
    "\n",
    "Para nos ajudar a carregar o ficheiro GPX vamos usar a biblioteca xml. Esta biblioteca fornece-nos duas classes muito úteis:\n",
    "- `ElementTree` - Classe que representa um ficheiro XML, com a sua hierarquia completa\n",
    "- `Element` - Classe que representa um elemento da hierarquia (e os seus descendentes)\n",
    "\n",
    "Para fazer a leitura do ficheiro GPX basta usar o método `parse(path)` de `xml.etree.ElementTree`. O nó que representa a raíz (um elemento) obtem-se usando o método `getroot()`:"
   ]
  },
  {
   "cell_type": "code",
   "execution_count": 1,
   "id": "93c18f91",
   "metadata": {},
   "outputs": [
    {
     "data": {
      "text/plain": [
       "<Element '{http://www.topografix.com/GPX/1/1}gpx' at 0x0000022C5C87C270>"
      ]
     },
     "execution_count": 1,
     "metadata": {},
     "output_type": "execute_result"
    }
   ],
   "source": [
    "import xml.etree.ElementTree as ET\n",
    "\n",
    "tree = ET.parse('data/MAY_26_12_11_59_18.gpx')\n",
    "root = tree.getroot()\n",
    "root"
   ]
  },
  {
   "cell_type": "markdown",
   "id": "44735667",
   "metadata": {},
   "source": [
    "Vamos de seguida obter todos os elementos que correspondem a pontos do percurso. Estes elementos estão identificados pela tag \"trkpt\" e podemos iterar sobre eles usando o método `iter(tagname)`. Neste exemplo estamos a construir uma lista definida por compreensão:"
   ]
  },
  {
   "cell_type": "code",
   "execution_count": 2,
   "id": "547f6b2f",
   "metadata": {},
   "outputs": [],
   "source": [
    "allPoints = [p for p in root.iter('{http://www.topografix.com/GPX/1/1}trkpt')]"
   ]
  },
  {
   "cell_type": "markdown",
   "id": "29b415ae",
   "metadata": {},
   "source": [
    "Note-se que `iter(tagname)` não é uma lista, mas sim um iterador, que pode ser usado para iterarmos a sequência de elementos por ele definida. Podemos inspecionar o conteúdo das primeiras 5 posições do array, verificando que cada entrada é do tipo `Element`:"
   ]
  },
  {
   "cell_type": "code",
   "execution_count": 3,
   "id": "d280f5ce",
   "metadata": {},
   "outputs": [
    {
     "data": {
      "text/plain": [
       "[<Element '{http://www.topografix.com/GPX/1/1}trkpt' at 0x0000022C5C87C770>,\n",
       " <Element '{http://www.topografix.com/GPX/1/1}trkpt' at 0x0000022C5C87C900>,\n",
       " <Element '{http://www.topografix.com/GPX/1/1}trkpt' at 0x0000022C5C87CA40>,\n",
       " <Element '{http://www.topografix.com/GPX/1/1}trkpt' at 0x0000022C5C87CB80>,\n",
       " <Element '{http://www.topografix.com/GPX/1/1}trkpt' at 0x0000022C5C87CCC0>]"
      ]
     },
     "execution_count": 3,
     "metadata": {},
     "output_type": "execute_result"
    }
   ],
   "source": [
    "allPoints[:5]"
   ]
  },
  {
   "cell_type": "markdown",
   "id": "747a4705",
   "metadata": {},
   "source": [
    "Os atributos de um `Element` podem ser obtidos usando o método `attrib()`, o qual devolve um dicionário. No caso dos elementos `trkpt`, os seus atributos são a latitude e longitude do ponto correspondente:"
   ]
  },
  {
   "cell_type": "code",
   "execution_count": 4,
   "id": "3556635e",
   "metadata": {},
   "outputs": [
    {
     "data": {
      "text/plain": [
       "{'lat': '38.6661240', 'lon': '-9.1681400'}"
      ]
     },
     "execution_count": 4,
     "metadata": {},
     "output_type": "execute_result"
    }
   ],
   "source": [
    "allPoints[0].attrib"
   ]
  },
  {
   "cell_type": "markdown",
   "id": "d3c8de4a",
   "metadata": {},
   "source": [
    "Cada `trkpt` pode possuir ainda dois subelementos, um para guardar a elevação e outro para guardar o instante (timestamp)."
   ]
  },
  {
   "cell_type": "code",
   "execution_count": 5,
   "id": "d885b5b6",
   "metadata": {},
   "outputs": [
    {
     "name": "stdout",
     "output_type": "stream",
     "text": [
      "Elevação:  20.0\n",
      "Timestamp: 2012-05-26T08:23:50Z\n"
     ]
    }
   ],
   "source": [
    "print('Elevação: ', allPoints[0].find('{http://www.topografix.com/GPX/1/1}ele').text)\n",
    "print('Timestamp:', allPoints[0].find('{http://www.topografix.com/GPX/1/1}time').text)"
   ]
  },
  {
   "cell_type": "markdown",
   "id": "cfe00af9",
   "metadata": {},
   "source": []
  },
  {
   "cell_type": "code",
   "execution_count": 6,
   "id": "cdee90b7",
   "metadata": {},
   "outputs": [],
   "source": [
    "def createGPXPointFromElement(elem):\n",
    "    lat = float(elem.get('lat'))\n",
    "    lon = float(elem.get('lon'))\n",
    "    time = elem.find('{http://www.topografix.com/GPX/1/1}time').text\n",
    "    ele = float(elem.find('{http://www.topografix.com/GPX/1/1}ele').text)\n",
    "    return { 'lat': lat, 'lon': lon, 'ele': ele, 'time': time}"
   ]
  },
  {
   "cell_type": "code",
   "execution_count": 7,
   "id": "195c59ae",
   "metadata": {},
   "outputs": [
    {
     "data": {
      "text/plain": [
       "{'lat': 38.666124,\n",
       " 'lon': -9.16814,\n",
       " 'ele': 20.0,\n",
       " 'time': '2012-05-26T08:23:50Z'}"
      ]
     },
     "execution_count": 7,
     "metadata": {},
     "output_type": "execute_result"
    }
   ],
   "source": [
    "createGPXPointFromElement(allPoints[0])"
   ]
  },
  {
   "cell_type": "code",
   "execution_count": 8,
   "id": "ecb35113",
   "metadata": {},
   "outputs": [],
   "source": [
    "allGPXPoints = [createGPXPointFromElement(p) for p in allPoints]"
   ]
  },
  {
   "cell_type": "code",
   "execution_count": 9,
   "id": "5930bd8d",
   "metadata": {},
   "outputs": [
    {
     "data": {
      "text/plain": [
       "[{'lat': 38.666124,\n",
       "  'lon': -9.16814,\n",
       "  'ele': 20.0,\n",
       "  'time': '2012-05-26T08:23:50Z'},\n",
       " {'lat': 38.666117,\n",
       "  'lon': -9.168181,\n",
       "  'ele': 19.9,\n",
       "  'time': '2012-05-26T08:23:51Z'},\n",
       " {'lat': 38.666094,\n",
       "  'lon': -9.168354,\n",
       "  'ele': 20.1,\n",
       "  'time': '2012-05-26T08:23:55Z'}]"
      ]
     },
     "execution_count": 9,
     "metadata": {},
     "output_type": "execute_result"
    }
   ],
   "source": [
    "allGPXPoints[:3]"
   ]
  },
  {
   "cell_type": "code",
   "execution_count": 10,
   "id": "bc84b9ff",
   "metadata": {},
   "outputs": [
    {
     "data": {
      "text/plain": [
       "'2012-05-26T08:23:50Z'"
      ]
     },
     "execution_count": 10,
     "metadata": {},
     "output_type": "execute_result"
    }
   ],
   "source": [
    "allGPXPoints[0]['time']"
   ]
  },
  {
   "cell_type": "markdown",
   "id": "8505f869",
   "metadata": {},
   "source": [
    "Let's add a new 'place' field to each point and randomly...\n"
   ]
  },
  {
   "cell_type": "code",
   "execution_count": 11,
   "id": "60facc52",
   "metadata": {},
   "outputs": [],
   "source": [
    "for p in allGPXPoints:\n",
    "    p['place'] = ''\n",
    "    \n",
    "allGPXPoints[0]['place'] = 'Start'\n",
    "allGPXPoints[-1]['place'] = 'Finish' \n",
    "\n",
    "import random\n",
    "\n",
    "nmarkers = 10\n",
    "width = int(len(allGPXPoints) // nmarkers)\n",
    "\n",
    "for i in range(1,nmarkers):\n",
    "    r = i*width-random.randint(0,width//(nmarkers//4))\n",
    "    allGPXPoints[r]['place'] = 'Marker#{}'.format(i)\n"
   ]
  },
  {
   "cell_type": "code",
   "execution_count": 12,
   "id": "b2dbcdd8",
   "metadata": {},
   "outputs": [],
   "source": [
    "# Open the file for writing\n",
    "with open('data/MAY_26_12_11_59_18.csv', \"w\") as f:\n",
    "\n",
    "    # Write the headers\n",
    "    f.write(\"lat,lon,ele,time,place\\n\")\n",
    "\n",
    "    for p in allGPXPoints:\n",
    "        f.write('{:.7f},{:.7f},{:.1f},{},{}\\n'.format(p['lat'], p['lon'], p['ele'], p['time'], p['place']))"
   ]
  },
  {
   "cell_type": "markdown",
   "id": "14960d6f",
   "metadata": {},
   "source": [
    "## Notas:\n",
    "\n",
    "- O processamento do ficheiro GPX poderia ter sido simplificado recorrendo à biblioteca [gpxpy](https://pypi.org/project/gpxpy/). Ao não usar essa biblioteca aproveitou-se para mostrar como se pode processar um ficheiro XML."
   ]
  },
  {
   "cell_type": "code",
   "execution_count": null,
   "id": "9a5a2900",
   "metadata": {},
   "outputs": [],
   "source": []
  }
 ],
 "metadata": {
  "kernelspec": {
   "display_name": "Python 3 (ipykernel)",
   "language": "python",
   "name": "python3"
  },
  "language_info": {
   "codemirror_mode": {
    "name": "ipython",
    "version": 3
   },
   "file_extension": ".py",
   "mimetype": "text/x-python",
   "name": "python",
   "nbconvert_exporter": "python",
   "pygments_lexer": "ipython3",
   "version": "3.9.7"
  }
 },
 "nbformat": 4,
 "nbformat_minor": 5
}
